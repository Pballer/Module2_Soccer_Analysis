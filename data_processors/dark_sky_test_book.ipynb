{
 "cells": [
  {
   "cell_type": "code",
   "execution_count": 1,
   "metadata": {},
   "outputs": [],
   "source": [
    "import requests\n",
    "import json\n",
    "import pymongo\n",
    "import pandas as pd\n",
    "import seaborn as sns"
   ]
  },
  {
   "cell_type": "code",
   "execution_count": 2,
   "metadata": {},
   "outputs": [],
   "source": [
    "from dark_sky_reader import DarkSkyReader\n",
    "from mongodb_store import MongoDbStore"
   ]
  },
  {
   "cell_type": "code",
   "execution_count": 3,
   "metadata": {},
   "outputs": [],
   "source": [
    "apikey = ''\n",
    "berlin_lat = 52.5200\n",
    "berlin_lon = 13.4050"
   ]
  },
  {
   "cell_type": "code",
   "execution_count": 4,
   "metadata": {},
   "outputs": [],
   "source": [
    "dates = pd.read_pickle('../SoccerData/game_dates_2011_season.pkl')"
   ]
  },
  {
   "cell_type": "code",
   "execution_count": 5,
   "metadata": {},
   "outputs": [],
   "source": [
    "dark_sky_reader = DarkSkyReader(apikey)"
   ]
  },
  {
   "cell_type": "code",
   "execution_count": 15,
   "metadata": {
    "collapsed": true,
    "jupyter": {
     "outputs_hidden": true
    }
   },
   "outputs": [
    {
     "name": "stdout",
     "output_type": "stream",
     "text": [
      "Rquesting:  https://api.darksky.net/forecast/aae0a1da4fc6055b286074235034513a/52.52,13.405,2011-07-15T10:00:00\n",
      "Rquesting:  https://api.darksky.net/forecast/aae0a1da4fc6055b286074235034513a/52.52,13.405,2011-07-16T10:00:00\n",
      "Rquesting:  https://api.darksky.net/forecast/aae0a1da4fc6055b286074235034513a/52.52,13.405,2011-07-17T10:00:00\n",
      "Rquesting:  https://api.darksky.net/forecast/aae0a1da4fc6055b286074235034513a/52.52,13.405,2011-07-18T10:00:00\n",
      "Rquesting:  https://api.darksky.net/forecast/aae0a1da4fc6055b286074235034513a/52.52,13.405,2011-07-22T10:00:00\n",
      "Rquesting:  https://api.darksky.net/forecast/aae0a1da4fc6055b286074235034513a/52.52,13.405,2011-07-23T10:00:00\n",
      "Rquesting:  https://api.darksky.net/forecast/aae0a1da4fc6055b286074235034513a/52.52,13.405,2011-07-24T10:00:00\n",
      "Rquesting:  https://api.darksky.net/forecast/aae0a1da4fc6055b286074235034513a/52.52,13.405,2011-07-25T10:00:00\n",
      "Rquesting:  https://api.darksky.net/forecast/aae0a1da4fc6055b286074235034513a/52.52,13.405,2011-08-05T10:00:00\n",
      "Rquesting:  https://api.darksky.net/forecast/aae0a1da4fc6055b286074235034513a/52.52,13.405,2011-08-06T10:00:00\n",
      "Rquesting:  https://api.darksky.net/forecast/aae0a1da4fc6055b286074235034513a/52.52,13.405,2011-08-07T10:00:00\n",
      "Rquesting:  https://api.darksky.net/forecast/aae0a1da4fc6055b286074235034513a/52.52,13.405,2011-08-08T10:00:00\n",
      "Rquesting:  https://api.darksky.net/forecast/aae0a1da4fc6055b286074235034513a/52.52,13.405,2011-08-12T10:00:00\n",
      "Rquesting:  https://api.darksky.net/forecast/aae0a1da4fc6055b286074235034513a/52.52,13.405,2011-08-13T10:00:00\n",
      "Rquesting:  https://api.darksky.net/forecast/aae0a1da4fc6055b286074235034513a/52.52,13.405,2011-08-14T10:00:00\n",
      "Rquesting:  https://api.darksky.net/forecast/aae0a1da4fc6055b286074235034513a/52.52,13.405,2011-08-15T10:00:00\n",
      "Rquesting:  https://api.darksky.net/forecast/aae0a1da4fc6055b286074235034513a/52.52,13.405,2011-08-19T10:00:00\n",
      "Rquesting:  https://api.darksky.net/forecast/aae0a1da4fc6055b286074235034513a/52.52,13.405,2011-08-20T10:00:00\n",
      "Rquesting:  https://api.darksky.net/forecast/aae0a1da4fc6055b286074235034513a/52.52,13.405,2011-08-21T10:00:00\n",
      "Rquesting:  https://api.darksky.net/forecast/aae0a1da4fc6055b286074235034513a/52.52,13.405,2011-08-22T10:00:00\n",
      "Rquesting:  https://api.darksky.net/forecast/aae0a1da4fc6055b286074235034513a/52.52,13.405,2011-08-26T10:00:00\n",
      "Rquesting:  https://api.darksky.net/forecast/aae0a1da4fc6055b286074235034513a/52.52,13.405,2011-08-27T10:00:00\n",
      "Rquesting:  https://api.darksky.net/forecast/aae0a1da4fc6055b286074235034513a/52.52,13.405,2011-08-28T10:00:00\n",
      "Rquesting:  https://api.darksky.net/forecast/aae0a1da4fc6055b286074235034513a/52.52,13.405,2011-08-29T10:00:00\n",
      "Rquesting:  https://api.darksky.net/forecast/aae0a1da4fc6055b286074235034513a/52.52,13.405,2011-09-09T10:00:00\n",
      "Rquesting:  https://api.darksky.net/forecast/aae0a1da4fc6055b286074235034513a/52.52,13.405,2011-09-10T10:00:00\n",
      "Rquesting:  https://api.darksky.net/forecast/aae0a1da4fc6055b286074235034513a/52.52,13.405,2011-09-11T10:00:00\n",
      "Rquesting:  https://api.darksky.net/forecast/aae0a1da4fc6055b286074235034513a/52.52,13.405,2011-09-12T10:00:00\n",
      "Rquesting:  https://api.darksky.net/forecast/aae0a1da4fc6055b286074235034513a/52.52,13.405,2011-09-16T10:00:00\n",
      "Rquesting:  https://api.darksky.net/forecast/aae0a1da4fc6055b286074235034513a/52.52,13.405,2011-09-17T10:00:00\n",
      "Rquesting:  https://api.darksky.net/forecast/aae0a1da4fc6055b286074235034513a/52.52,13.405,2011-09-18T10:00:00\n",
      "Rquesting:  https://api.darksky.net/forecast/aae0a1da4fc6055b286074235034513a/52.52,13.405,2011-09-19T10:00:00\n",
      "Rquesting:  https://api.darksky.net/forecast/aae0a1da4fc6055b286074235034513a/52.52,13.405,2011-09-23T10:00:00\n",
      "Rquesting:  https://api.darksky.net/forecast/aae0a1da4fc6055b286074235034513a/52.52,13.405,2011-09-24T10:00:00\n",
      "Rquesting:  https://api.darksky.net/forecast/aae0a1da4fc6055b286074235034513a/52.52,13.405,2011-09-25T10:00:00\n",
      "Rquesting:  https://api.darksky.net/forecast/aae0a1da4fc6055b286074235034513a/52.52,13.405,2011-09-26T10:00:00\n",
      "Rquesting:  https://api.darksky.net/forecast/aae0a1da4fc6055b286074235034513a/52.52,13.405,2011-09-30T10:00:00\n",
      "Rquesting:  https://api.darksky.net/forecast/aae0a1da4fc6055b286074235034513a/52.52,13.405,2011-10-01T10:00:00\n",
      "Rquesting:  https://api.darksky.net/forecast/aae0a1da4fc6055b286074235034513a/52.52,13.405,2011-10-02T10:00:00\n",
      "Rquesting:  https://api.darksky.net/forecast/aae0a1da4fc6055b286074235034513a/52.52,13.405,2011-10-03T10:00:00\n",
      "Rquesting:  https://api.darksky.net/forecast/aae0a1da4fc6055b286074235034513a/52.52,13.405,2011-10-14T10:00:00\n",
      "Rquesting:  https://api.darksky.net/forecast/aae0a1da4fc6055b286074235034513a/52.52,13.405,2011-10-15T10:00:00\n",
      "Rquesting:  https://api.darksky.net/forecast/aae0a1da4fc6055b286074235034513a/52.52,13.405,2011-10-16T10:00:00\n",
      "Rquesting:  https://api.darksky.net/forecast/aae0a1da4fc6055b286074235034513a/52.52,13.405,2011-10-17T10:00:00\n",
      "Rquesting:  https://api.darksky.net/forecast/aae0a1da4fc6055b286074235034513a/52.52,13.405,2011-10-21T10:00:00\n",
      "Rquesting:  https://api.darksky.net/forecast/aae0a1da4fc6055b286074235034513a/52.52,13.405,2011-10-22T10:00:00\n",
      "Rquesting:  https://api.darksky.net/forecast/aae0a1da4fc6055b286074235034513a/52.52,13.405,2011-10-23T10:00:00\n",
      "Rquesting:  https://api.darksky.net/forecast/aae0a1da4fc6055b286074235034513a/52.52,13.405,2011-10-28T10:00:00\n",
      "Rquesting:  https://api.darksky.net/forecast/aae0a1da4fc6055b286074235034513a/52.52,13.405,2011-10-29T10:00:00\n",
      "Rquesting:  https://api.darksky.net/forecast/aae0a1da4fc6055b286074235034513a/52.52,13.405,2011-10-30T10:00:00\n",
      "Rquesting:  https://api.darksky.net/forecast/aae0a1da4fc6055b286074235034513a/52.52,13.405,2011-10-31T10:00:00\n",
      "Rquesting:  https://api.darksky.net/forecast/aae0a1da4fc6055b286074235034513a/52.52,13.405,2011-11-04T10:00:00\n",
      "Rquesting:  https://api.darksky.net/forecast/aae0a1da4fc6055b286074235034513a/52.52,13.405,2011-11-05T10:00:00\n",
      "Rquesting:  https://api.darksky.net/forecast/aae0a1da4fc6055b286074235034513a/52.52,13.405,2011-11-06T10:00:00\n",
      "Rquesting:  https://api.darksky.net/forecast/aae0a1da4fc6055b286074235034513a/52.52,13.405,2011-11-07T10:00:00\n",
      "Rquesting:  https://api.darksky.net/forecast/aae0a1da4fc6055b286074235034513a/52.52,13.405,2011-11-18T10:00:00\n",
      "Rquesting:  https://api.darksky.net/forecast/aae0a1da4fc6055b286074235034513a/52.52,13.405,2011-11-19T10:00:00\n",
      "Rquesting:  https://api.darksky.net/forecast/aae0a1da4fc6055b286074235034513a/52.52,13.405,2011-11-20T10:00:00\n",
      "Rquesting:  https://api.darksky.net/forecast/aae0a1da4fc6055b286074235034513a/52.52,13.405,2011-11-21T10:00:00\n",
      "Rquesting:  https://api.darksky.net/forecast/aae0a1da4fc6055b286074235034513a/52.52,13.405,2011-11-25T10:00:00\n",
      "Rquesting:  https://api.darksky.net/forecast/aae0a1da4fc6055b286074235034513a/52.52,13.405,2011-11-26T10:00:00\n",
      "Rquesting:  https://api.darksky.net/forecast/aae0a1da4fc6055b286074235034513a/52.52,13.405,2011-11-27T10:00:00\n",
      "Rquesting:  https://api.darksky.net/forecast/aae0a1da4fc6055b286074235034513a/52.52,13.405,2011-11-28T10:00:00\n",
      "Rquesting:  https://api.darksky.net/forecast/aae0a1da4fc6055b286074235034513a/52.52,13.405,2011-12-02T10:00:00\n",
      "Rquesting:  https://api.darksky.net/forecast/aae0a1da4fc6055b286074235034513a/52.52,13.405,2011-12-03T10:00:00\n",
      "Rquesting:  https://api.darksky.net/forecast/aae0a1da4fc6055b286074235034513a/52.52,13.405,2011-12-04T10:00:00\n",
      "Rquesting:  https://api.darksky.net/forecast/aae0a1da4fc6055b286074235034513a/52.52,13.405,2011-12-05T10:00:00\n",
      "Rquesting:  https://api.darksky.net/forecast/aae0a1da4fc6055b286074235034513a/52.52,13.405,2011-12-09T10:00:00\n",
      "Rquesting:  https://api.darksky.net/forecast/aae0a1da4fc6055b286074235034513a/52.52,13.405,2011-12-10T10:00:00\n",
      "Rquesting:  https://api.darksky.net/forecast/aae0a1da4fc6055b286074235034513a/52.52,13.405,2011-12-11T10:00:00\n",
      "Rquesting:  https://api.darksky.net/forecast/aae0a1da4fc6055b286074235034513a/52.52,13.405,2011-12-12T10:00:00\n",
      "Rquesting:  https://api.darksky.net/forecast/aae0a1da4fc6055b286074235034513a/52.52,13.405,2011-12-13T10:00:00\n",
      "Rquesting:  https://api.darksky.net/forecast/aae0a1da4fc6055b286074235034513a/52.52,13.405,2011-12-16T10:00:00\n",
      "Rquesting:  https://api.darksky.net/forecast/aae0a1da4fc6055b286074235034513a/52.52,13.405,2011-12-17T10:00:00\n",
      "Rquesting:  https://api.darksky.net/forecast/aae0a1da4fc6055b286074235034513a/52.52,13.405,2011-12-18T10:00:00\n",
      "Rquesting:  https://api.darksky.net/forecast/aae0a1da4fc6055b286074235034513a/52.52,13.405,2011-12-19T10:00:00\n",
      "Rquesting:  https://api.darksky.net/forecast/aae0a1da4fc6055b286074235034513a/52.52,13.405,2012-01-20T10:00:00\n",
      "Rquesting:  https://api.darksky.net/forecast/aae0a1da4fc6055b286074235034513a/52.52,13.405,2012-01-21T10:00:00\n",
      "Rquesting:  https://api.darksky.net/forecast/aae0a1da4fc6055b286074235034513a/52.52,13.405,2012-01-22T10:00:00\n",
      "Rquesting:  https://api.darksky.net/forecast/aae0a1da4fc6055b286074235034513a/52.52,13.405,2012-01-27T10:00:00\n",
      "Rquesting:  https://api.darksky.net/forecast/aae0a1da4fc6055b286074235034513a/52.52,13.405,2012-01-28T10:00:00\n",
      "Rquesting:  https://api.darksky.net/forecast/aae0a1da4fc6055b286074235034513a/52.52,13.405,2012-01-29T10:00:00\n",
      "Rquesting:  https://api.darksky.net/forecast/aae0a1da4fc6055b286074235034513a/52.52,13.405,2012-02-03T10:00:00\n",
      "Rquesting:  https://api.darksky.net/forecast/aae0a1da4fc6055b286074235034513a/52.52,13.405,2012-02-04T10:00:00\n",
      "Rquesting:  https://api.darksky.net/forecast/aae0a1da4fc6055b286074235034513a/52.52,13.405,2012-02-05T10:00:00\n",
      "Rquesting:  https://api.darksky.net/forecast/aae0a1da4fc6055b286074235034513a/52.52,13.405,2012-02-06T10:00:00\n",
      "Rquesting:  https://api.darksky.net/forecast/aae0a1da4fc6055b286074235034513a/52.52,13.405,2012-02-10T10:00:00\n",
      "Rquesting:  https://api.darksky.net/forecast/aae0a1da4fc6055b286074235034513a/52.52,13.405,2012-02-11T10:00:00\n",
      "Rquesting:  https://api.darksky.net/forecast/aae0a1da4fc6055b286074235034513a/52.52,13.405,2012-02-12T10:00:00\n",
      "Rquesting:  https://api.darksky.net/forecast/aae0a1da4fc6055b286074235034513a/52.52,13.405,2012-02-13T10:00:00\n",
      "Rquesting:  https://api.darksky.net/forecast/aae0a1da4fc6055b286074235034513a/52.52,13.405,2012-02-17T10:00:00\n",
      "Rquesting:  https://api.darksky.net/forecast/aae0a1da4fc6055b286074235034513a/52.52,13.405,2012-02-18T10:00:00\n",
      "Rquesting:  https://api.darksky.net/forecast/aae0a1da4fc6055b286074235034513a/52.52,13.405,2012-02-19T10:00:00\n",
      "Rquesting:  https://api.darksky.net/forecast/aae0a1da4fc6055b286074235034513a/52.52,13.405,2012-02-20T10:00:00\n",
      "Rquesting:  https://api.darksky.net/forecast/aae0a1da4fc6055b286074235034513a/52.52,13.405,2012-02-24T10:00:00\n",
      "Rquesting:  https://api.darksky.net/forecast/aae0a1da4fc6055b286074235034513a/52.52,13.405,2012-02-25T10:00:00\n",
      "Rquesting:  https://api.darksky.net/forecast/aae0a1da4fc6055b286074235034513a/52.52,13.405,2012-02-26T10:00:00\n",
      "Rquesting:  https://api.darksky.net/forecast/aae0a1da4fc6055b286074235034513a/52.52,13.405,2012-02-27T10:00:00\n",
      "Rquesting:  https://api.darksky.net/forecast/aae0a1da4fc6055b286074235034513a/52.52,13.405,2012-03-02T10:00:00\n",
      "Rquesting:  https://api.darksky.net/forecast/aae0a1da4fc6055b286074235034513a/52.52,13.405,2012-03-03T10:00:00\n",
      "Rquesting:  https://api.darksky.net/forecast/aae0a1da4fc6055b286074235034513a/52.52,13.405,2012-03-04T10:00:00\n",
      "Rquesting:  https://api.darksky.net/forecast/aae0a1da4fc6055b286074235034513a/52.52,13.405,2012-03-05T10:00:00\n",
      "Rquesting:  https://api.darksky.net/forecast/aae0a1da4fc6055b286074235034513a/52.52,13.405,2012-03-09T10:00:00\n",
      "Rquesting:  https://api.darksky.net/forecast/aae0a1da4fc6055b286074235034513a/52.52,13.405,2012-03-10T10:00:00\n",
      "Rquesting:  https://api.darksky.net/forecast/aae0a1da4fc6055b286074235034513a/52.52,13.405,2012-03-11T10:00:00\n",
      "Rquesting:  https://api.darksky.net/forecast/aae0a1da4fc6055b286074235034513a/52.52,13.405,2012-03-12T10:00:00\n",
      "Rquesting:  https://api.darksky.net/forecast/aae0a1da4fc6055b286074235034513a/52.52,13.405,2012-03-14T10:00:00\n",
      "Rquesting:  https://api.darksky.net/forecast/aae0a1da4fc6055b286074235034513a/52.52,13.405,2012-03-16T10:00:00\n",
      "Rquesting:  https://api.darksky.net/forecast/aae0a1da4fc6055b286074235034513a/52.52,13.405,2012-03-17T10:00:00\n",
      "Rquesting:  https://api.darksky.net/forecast/aae0a1da4fc6055b286074235034513a/52.52,13.405,2012-03-18T10:00:00\n",
      "Rquesting:  https://api.darksky.net/forecast/aae0a1da4fc6055b286074235034513a/52.52,13.405,2012-03-19T10:00:00\n",
      "Rquesting:  https://api.darksky.net/forecast/aae0a1da4fc6055b286074235034513a/52.52,13.405,2012-03-23T10:00:00\n",
      "Rquesting:  https://api.darksky.net/forecast/aae0a1da4fc6055b286074235034513a/52.52,13.405,2012-03-24T10:00:00\n",
      "Rquesting:  https://api.darksky.net/forecast/aae0a1da4fc6055b286074235034513a/52.52,13.405,2012-03-25T10:00:00\n",
      "Rquesting:  https://api.darksky.net/forecast/aae0a1da4fc6055b286074235034513a/52.52,13.405,2012-03-26T10:00:00\n",
      "Rquesting:  https://api.darksky.net/forecast/aae0a1da4fc6055b286074235034513a/52.52,13.405,2012-03-30T10:00:00\n",
      "Rquesting:  https://api.darksky.net/forecast/aae0a1da4fc6055b286074235034513a/52.52,13.405,2012-03-31T10:00:00\n",
      "Rquesting:  https://api.darksky.net/forecast/aae0a1da4fc6055b286074235034513a/52.52,13.405,2012-04-01T10:00:00\n",
      "Rquesting:  https://api.darksky.net/forecast/aae0a1da4fc6055b286074235034513a/52.52,13.405,2012-04-02T10:00:00\n",
      "Rquesting:  https://api.darksky.net/forecast/aae0a1da4fc6055b286074235034513a/52.52,13.405,2012-04-05T10:00:00\n",
      "Rquesting:  https://api.darksky.net/forecast/aae0a1da4fc6055b286074235034513a/52.52,13.405,2012-04-07T10:00:00\n",
      "Rquesting:  https://api.darksky.net/forecast/aae0a1da4fc6055b286074235034513a/52.52,13.405,2012-04-08T10:00:00\n",
      "Rquesting:  https://api.darksky.net/forecast/aae0a1da4fc6055b286074235034513a/52.52,13.405,2012-04-10T10:00:00\n",
      "Rquesting:  https://api.darksky.net/forecast/aae0a1da4fc6055b286074235034513a/52.52,13.405,2012-04-11T10:00:00\n",
      "Rquesting:  https://api.darksky.net/forecast/aae0a1da4fc6055b286074235034513a/52.52,13.405,2012-04-13T10:00:00\n",
      "Rquesting:  https://api.darksky.net/forecast/aae0a1da4fc6055b286074235034513a/52.52,13.405,2012-04-14T10:00:00\n",
      "Rquesting:  https://api.darksky.net/forecast/aae0a1da4fc6055b286074235034513a/52.52,13.405,2012-04-15T10:00:00\n",
      "Rquesting:  https://api.darksky.net/forecast/aae0a1da4fc6055b286074235034513a/52.52,13.405,2012-04-16T10:00:00\n",
      "Rquesting:  https://api.darksky.net/forecast/aae0a1da4fc6055b286074235034513a/52.52,13.405,2012-04-20T10:00:00\n",
      "Rquesting:  https://api.darksky.net/forecast/aae0a1da4fc6055b286074235034513a/52.52,13.405,2012-04-21T10:00:00\n",
      "Rquesting:  https://api.darksky.net/forecast/aae0a1da4fc6055b286074235034513a/52.52,13.405,2012-04-22T10:00:00\n",
      "Rquesting:  https://api.darksky.net/forecast/aae0a1da4fc6055b286074235034513a/52.52,13.405,2012-04-23T10:00:00\n",
      "Rquesting:  https://api.darksky.net/forecast/aae0a1da4fc6055b286074235034513a/52.52,13.405,2012-04-28T10:00:00\n",
      "Rquesting:  https://api.darksky.net/forecast/aae0a1da4fc6055b286074235034513a/52.52,13.405,2012-04-29T10:00:00\n",
      "Rquesting:  https://api.darksky.net/forecast/aae0a1da4fc6055b286074235034513a/52.52,13.405,2012-05-05T10:00:00\n",
      "Rquesting:  https://api.darksky.net/forecast/aae0a1da4fc6055b286074235034513a/52.52,13.405,2012-05-06T10:00:00\n"
     ]
    }
   ],
   "source": [
    "weather_rows = []\n",
    "for date in dates.Date:\n",
    "    month = '{:02}'.format(date.month)\n",
    "    day = '{:02}'.format(date.day)\n",
    "    \n",
    "    try:\n",
    "        response = dark_sky_reader.get_weather(berlin_lat,\n",
    "                                              berlin_lon,\n",
    "                                              date.year,\n",
    "                                              month,\n",
    "                                              day,\n",
    "                                              h = 10)\n",
    "\n",
    "        daily_summary = response['daily']['data'][0][0]['summary']\n",
    "        precip_intensity = response.get_precip_intensity()\n",
    "        \n",
    "        weather_rows.append([date, daily_summary, precip_intensity])\n",
    "        \n",
    "    except Exception as e:\n",
    "        print('Skipping:', date.year, date.month, date.day)\n",
    "        print(e)\n"
   ]
  },
  {
   "cell_type": "code",
   "execution_count": 16,
   "metadata": {},
   "outputs": [],
   "source": [
    "weather_2011_soccer = pd.DataFrame(weather_rows, columns=['date', 'daily_summary', 'precip_intensity'])"
   ]
  },
  {
   "cell_type": "code",
   "execution_count": 25,
   "metadata": {},
   "outputs": [],
   "source": [
    "weather_2011_soccerweather_2011_soccer.daily_summary.apply(lambda r: 'rain' in r.lower())"
   ]
  },
  {
   "cell_type": "code",
   "execution_count": 21,
   "metadata": {},
   "outputs": [
    {
     "data": {
      "text/html": [
       "<div>\n",
       "<style scoped>\n",
       "    .dataframe tbody tr th:only-of-type {\n",
       "        vertical-align: middle;\n",
       "    }\n",
       "\n",
       "    .dataframe tbody tr th {\n",
       "        vertical-align: top;\n",
       "    }\n",
       "\n",
       "    .dataframe thead th {\n",
       "        text-align: right;\n",
       "    }\n",
       "</style>\n",
       "<table border=\"1\" class=\"dataframe\">\n",
       "  <thead>\n",
       "    <tr style=\"text-align: right;\">\n",
       "      <th></th>\n",
       "      <th>count</th>\n",
       "      <th>mean</th>\n",
       "      <th>std</th>\n",
       "      <th>min</th>\n",
       "      <th>25%</th>\n",
       "      <th>50%</th>\n",
       "      <th>75%</th>\n",
       "      <th>max</th>\n",
       "    </tr>\n",
       "  </thead>\n",
       "  <tbody>\n",
       "    <tr>\n",
       "      <th>precip_intensity</th>\n",
       "      <td>136.0</td>\n",
       "      <td>0.00269</td>\n",
       "      <td>0.009456</td>\n",
       "      <td>0.0</td>\n",
       "      <td>0.0</td>\n",
       "      <td>0.0</td>\n",
       "      <td>0.000525</td>\n",
       "      <td>0.083</td>\n",
       "    </tr>\n",
       "  </tbody>\n",
       "</table>\n",
       "</div>"
      ],
      "text/plain": [
       "                  count     mean       std  min  25%  50%       75%    max\n",
       "precip_intensity  136.0  0.00269  0.009456  0.0  0.0  0.0  0.000525  0.083"
      ]
     },
     "execution_count": 21,
     "metadata": {},
     "output_type": "execute_result"
    }
   ],
   "source": [
    "weather_2011_soccer.describe().T"
   ]
  },
  {
   "cell_type": "code",
   "execution_count": 27,
   "metadata": {},
   "outputs": [],
   "source": [
    "weather_2011_soccer.to_pickle('../SoccerData/weather_2011_soccer.pkl')"
   ]
  },
  {
   "cell_type": "code",
   "execution_count": null,
   "metadata": {},
   "outputs": [],
   "source": []
  }
 ],
 "metadata": {
  "kernelspec": {
   "display_name": "Python [conda env:learn-env] *",
   "language": "python",
   "name": "conda-env-learn-env-py"
  },
  "language_info": {
   "codemirror_mode": {
    "name": "ipython",
    "version": 3
   },
   "file_extension": ".py",
   "mimetype": "text/x-python",
   "name": "python",
   "nbconvert_exporter": "python",
   "pygments_lexer": "ipython3",
   "version": "3.6.6"
  }
 },
 "nbformat": 4,
 "nbformat_minor": 4
}
